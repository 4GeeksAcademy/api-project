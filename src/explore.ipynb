{
    "cells": [
        {
            "cell_type": "markdown",
            "metadata": {},
            "source": [
                "# Explore here"
            ]
        },
        {
            "cell_type": "code",
            "execution_count": 50,
            "metadata": {},
            "outputs": [],
            "source": [
                "import os\n",
                "from sqlalchemy import create_engine\n",
                "import pandas as pd\n",
                "from dotenv import load_dotenv\n",
                "import spotipy\n",
                "from spotipy.oauth2 import SpotifyClientCredentials\n",
                "import numpy as np\n",
                "\n",
                "load_dotenv()\n",
                "\n",
                "client_id = os.environ.get(\"SPOTIPY_CLIENT_ID\")\n",
                "client_secret = os.environ.get(\"SPOTIPY_CLIENT_SECRET\")"
            ]
        },
        {
            "cell_type": "code",
            "execution_count": 51,
            "metadata": {},
            "outputs": [],
            "source": [
                "fla_uri = 'spotify:artist:5QYAExYvxixCVwX70SRf7F'\n",
                "spotify = spotipy.Spotify(client_credentials_manager=SpotifyClientCredentials())\n",
                "results = spotify.artist_top_tracks(fla_uri)"
            ]
        },
        {
            "cell_type": "code",
            "execution_count": 52,
            "metadata": {},
            "outputs": [],
            "source": [
                "song_list = []\n",
                "for track_info in results['tracks'][:10]:\n",
                "    track = track_info['name']\n",
                "    duration = track_info['duration_ms']/60000\n",
                "    popularity = track_info['popularity']\n",
                "    song_list.append([track, duration, popularity])\n",
                "    "
            ]
        },
        {
            "cell_type": "code",
            "execution_count": 53,
            "metadata": {},
            "outputs": [
                {
                    "data": {
                        "text/html": [
                            "<div>\n",
                            "<style scoped>\n",
                            "    .dataframe tbody tr th:only-of-type {\n",
                            "        vertical-align: middle;\n",
                            "    }\n",
                            "\n",
                            "    .dataframe tbody tr th {\n",
                            "        vertical-align: top;\n",
                            "    }\n",
                            "\n",
                            "    .dataframe thead th {\n",
                            "        text-align: right;\n",
                            "    }\n",
                            "</style>\n",
                            "<table border=\"1\" class=\"dataframe\">\n",
                            "  <thead>\n",
                            "    <tr style=\"text-align: right;\">\n",
                            "      <th></th>\n",
                            "      <th>Track name</th>\n",
                            "      <th>Duration (min)</th>\n",
                            "      <th>Popularity</th>\n",
                            "    </tr>\n",
                            "  </thead>\n",
                            "  <tbody>\n",
                            "    <tr>\n",
                            "      <th>0</th>\n",
                            "      <td>Deadened</td>\n",
                            "      <td>5.800000</td>\n",
                            "      <td>37</td>\n",
                            "    </tr>\n",
                            "    <tr>\n",
                            "      <th>1</th>\n",
                            "      <td>Killing Grounds</td>\n",
                            "      <td>5.975333</td>\n",
                            "      <td>35</td>\n",
                            "    </tr>\n",
                            "    <tr>\n",
                            "      <th>2</th>\n",
                            "      <td>Rock Me Amadeus</td>\n",
                            "      <td>4.246883</td>\n",
                            "      <td>33</td>\n",
                            "    </tr>\n",
                            "    <tr>\n",
                            "      <th>3</th>\n",
                            "      <td>Mindphaser</td>\n",
                            "      <td>6.741100</td>\n",
                            "      <td>31</td>\n",
                            "    </tr>\n",
                            "    <tr>\n",
                            "      <th>4</th>\n",
                            "      <td>Millennium</td>\n",
                            "      <td>6.163333</td>\n",
                            "      <td>28</td>\n",
                            "    </tr>\n",
                            "    <tr>\n",
                            "      <th>5</th>\n",
                            "      <td>Force Carrier</td>\n",
                            "      <td>3.352100</td>\n",
                            "      <td>27</td>\n",
                            "    </tr>\n",
                            "    <tr>\n",
                            "      <th>6</th>\n",
                            "      <td>Mechvirus - Remix</td>\n",
                            "      <td>4.903217</td>\n",
                            "      <td>27</td>\n",
                            "    </tr>\n",
                            "    <tr>\n",
                            "      <th>7</th>\n",
                            "      <td>Vigilante</td>\n",
                            "      <td>6.474433</td>\n",
                            "      <td>27</td>\n",
                            "    </tr>\n",
                            "    <tr>\n",
                            "      <th>8</th>\n",
                            "      <td>Angriff</td>\n",
                            "      <td>6.722667</td>\n",
                            "      <td>23</td>\n",
                            "    </tr>\n",
                            "    <tr>\n",
                            "      <th>9</th>\n",
                            "      <td>Plasticity (Album Version)</td>\n",
                            "      <td>6.816433</td>\n",
                            "      <td>24</td>\n",
                            "    </tr>\n",
                            "  </tbody>\n",
                            "</table>\n",
                            "</div>"
                        ],
                        "text/plain": [
                            "                   Track name  Duration (min)  Popularity\n",
                            "0                    Deadened        5.800000          37\n",
                            "1             Killing Grounds        5.975333          35\n",
                            "2             Rock Me Amadeus        4.246883          33\n",
                            "3                  Mindphaser        6.741100          31\n",
                            "4                  Millennium        6.163333          28\n",
                            "5               Force Carrier        3.352100          27\n",
                            "6           Mechvirus - Remix        4.903217          27\n",
                            "7                   Vigilante        6.474433          27\n",
                            "8                     Angriff        6.722667          23\n",
                            "9  Plasticity (Album Version)        6.816433          24"
                        ]
                    },
                    "execution_count": 53,
                    "metadata": {},
                    "output_type": "execute_result"
                }
            ],
            "source": [
                "columns = ['Track name', 'Duration (min)', 'Popularity']\n",
                "df = pd.DataFrame(song_list, columns = columns)\n",
                "\n",
                "df"
            ]
        },
        {
            "cell_type": "code",
            "execution_count": 55,
            "metadata": {},
            "outputs": [
                {
                    "data": {
                        "image/png": "[encoded data removed]",
                        "text/plain": [
                            "<Figure size 1000x600 with 1 Axes>"
                        ]
                    },
                    "metadata": {},
                    "output_type": "display_data"
                }
            ],
            "source": [
                "import matplotlib.pyplot as plt\n",
                "\n",
                "# Graficar el scatter plot\n",
                "plt.figure(figsize=(10, 6))\n",
                "plt.scatter(df['Duration (min)'], df['Popularity'], color='blue', alpha=0.5)\n",
                "plt.title('Relation between song duration and popularity')\n",
                "plt.xlabel('Duration (min)')\n",
                "plt.ylabel('Popularity')\n",
                "plt.grid(True)\n",
                "plt.show()"
            ]
        },
        {
            "cell_type": "markdown",
            "metadata": {},
            "source": [
                "Con base en lo que se puede observar en el grafico, la relación entre duracion y popularidad es directamente proporcional; si bien tanto canciones cortas como largas tienen prescencia en una buena posición de popularidad, mas canciones de mayor duración ocupan puestos en esta lista y en mejores posiciones que las canciones cortas. Hace falta un analisis mas detallado para confirmar la teoria de relacion."
            ]
        }
    ],
    "metadata": {
        "kernelspec": {
            "display_name": "Python 3.8.13 64-bit ('3.8.13')",
            "language": "python",
            "name": "python3"
        },
        "language_info": {
            "codemirror_mode": {
                "name": "ipython",
                "version": 3
            },
            "file_extension": ".py",
            "mimetype": "text/x-python",
            "name": "python",
            "nbconvert_exporter": "python",
            "pygments_lexer": "ipython3",
            "version": "3.11.4"
        },
        "orig_nbformat": 4,
        "vscode": {
            "interpreter": {
                "hash": "110cc1dee26208153f2972f08a2ad52b6a56238dc66d48e87fb757ef2996db56"
            }
        }
    },
    "nbformat": 4,
    "nbformat_minor": 2
}
